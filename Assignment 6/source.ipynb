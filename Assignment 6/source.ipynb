{
 "cells": [
  {
   "cell_type": "code",
   "execution_count": 35,
   "id": "63504f94",
   "metadata": {},
   "outputs": [],
   "source": [
    "import pandas as pd\n",
    "import numpy as np\n",
    "import matplotlib.pyplot as plt\n",
    "import seaborn as sns\n",
    "from sklearn.datasets import load_iris\n",
    "from sklearn.preprocessing import StandardScaler\n",
    "from sklearn.metrics import accuracy_score, precision_score, recall_score, f1_score, classification_report\n",
    "from sklearn.model_selection import train_test_split, GridSearchCV, RandomizedSearchCV\n",
    "from sklearn.neighbors import KNeighborsClassifier\n",
    "from sklearn.svm import SVC\n",
    "from sklearn.ensemble import RandomForestClassifier\n",
    "from sklearn.pipeline import Pipeline"
   ]
  },
  {
   "cell_type": "markdown",
   "id": "8d309d36",
   "metadata": {},
   "source": [
    "##  Library Imports and Setup\n",
    "\n",
    "In this section, we import all necessary libraries for data loading, preprocessing, visualization, modeling, and evaluation.\n",
    "\n",
    "###  Libraries Used:\n",
    "\n",
    "- `pandas`, `numpy`: For data manipulation and numerical operations.\n",
    "- `matplotlib.pyplot`, `seaborn`: For data visualization.\n",
    "- `sklearn.datasets.load_iris`: Loads the Iris dataset for classification.\n",
    "- `sklearn.preprocessing.StandardScaler`: For standardizing feature scales.\n",
    "- `sklearn.metrics`: For model evaluation metrics like accuracy, precision, recall, F1-score, and classification reports.\n",
    "- `sklearn.model_selection`: For splitting the dataset and performing hyperparameter tuning using GridSearchCV and RandomizedSearchCV.\n",
    "- `sklearn.neighbors.KNeighborsClassifier`: Implements the K-Nearest Neighbors algorithm.\n",
    "- `sklearn.svm.SVC`: Implements the Support Vector Classifier.\n",
    "- `sklearn.ensemble.RandomForestClassifier`: Implements the Random Forest classifier.\n",
    "- `sklearn.pipeline.Pipeline`: Allows for streamlined model building and hyperparameter tuning by chaining preprocessing and modeling steps together.\n"
   ]
  },
  {
   "cell_type": "code",
   "execution_count": null,
   "id": "f896fef6",
   "metadata": {},
   "outputs": [],
   "source": [
    "data = load_iris()\n",
    "\n",
    "X = pd.DataFrame(data.data, columns=data.feature_names)\n",
    "y = data.target"
   ]
  },
  {
   "cell_type": "markdown",
   "id": "a49674b9",
   "metadata": {},
   "source": [
    "##  Dataset Loading and Preparation\n",
    "\n",
    "We load the classic Iris dataset using `sklearn.datasets.load_iris()`.\n",
    "\n",
    "###  Steps:\n",
    "\n",
    "- `load_iris()`: Loads the Iris flower classification dataset, which includes 150 samples of iris flowers with 4 features each: \n",
    "  - sepal length\n",
    "  - sepal width\n",
    "  - petal length\n",
    "  - petal width\n",
    "\n",
    "- `X`: A `pandas.DataFrame` containing the feature matrix with proper column names extracted from `data.feature_names`.\n",
    "\n",
    "- `y`: The target vector, containing the class labels for the three iris species (`0`, `1`, `2`).\n",
    "\n",
    "This forms the input (`X`) and output (`y`) for model training and evaluation.\n"
   ]
  },
  {
   "cell_type": "code",
   "execution_count": 37,
   "id": "8ab70bf9",
   "metadata": {},
   "outputs": [
    {
     "data": {
      "text/html": [
       "<div>\n",
       "<style scoped>\n",
       "    .dataframe tbody tr th:only-of-type {\n",
       "        vertical-align: middle;\n",
       "    }\n",
       "\n",
       "    .dataframe tbody tr th {\n",
       "        vertical-align: top;\n",
       "    }\n",
       "\n",
       "    .dataframe thead th {\n",
       "        text-align: right;\n",
       "    }\n",
       "</style>\n",
       "<table border=\"1\" class=\"dataframe\">\n",
       "  <thead>\n",
       "    <tr style=\"text-align: right;\">\n",
       "      <th></th>\n",
       "      <th>sepal length (cm)</th>\n",
       "      <th>sepal width (cm)</th>\n",
       "      <th>petal length (cm)</th>\n",
       "      <th>petal width (cm)</th>\n",
       "    </tr>\n",
       "  </thead>\n",
       "  <tbody>\n",
       "    <tr>\n",
       "      <th>0</th>\n",
       "      <td>5.1</td>\n",
       "      <td>3.5</td>\n",
       "      <td>1.4</td>\n",
       "      <td>0.2</td>\n",
       "    </tr>\n",
       "    <tr>\n",
       "      <th>1</th>\n",
       "      <td>4.9</td>\n",
       "      <td>3.0</td>\n",
       "      <td>1.4</td>\n",
       "      <td>0.2</td>\n",
       "    </tr>\n",
       "    <tr>\n",
       "      <th>2</th>\n",
       "      <td>4.7</td>\n",
       "      <td>3.2</td>\n",
       "      <td>1.3</td>\n",
       "      <td>0.2</td>\n",
       "    </tr>\n",
       "    <tr>\n",
       "      <th>3</th>\n",
       "      <td>4.6</td>\n",
       "      <td>3.1</td>\n",
       "      <td>1.5</td>\n",
       "      <td>0.2</td>\n",
       "    </tr>\n",
       "    <tr>\n",
       "      <th>4</th>\n",
       "      <td>5.0</td>\n",
       "      <td>3.6</td>\n",
       "      <td>1.4</td>\n",
       "      <td>0.2</td>\n",
       "    </tr>\n",
       "    <tr>\n",
       "      <th>...</th>\n",
       "      <td>...</td>\n",
       "      <td>...</td>\n",
       "      <td>...</td>\n",
       "      <td>...</td>\n",
       "    </tr>\n",
       "    <tr>\n",
       "      <th>145</th>\n",
       "      <td>6.7</td>\n",
       "      <td>3.0</td>\n",
       "      <td>5.2</td>\n",
       "      <td>2.3</td>\n",
       "    </tr>\n",
       "    <tr>\n",
       "      <th>146</th>\n",
       "      <td>6.3</td>\n",
       "      <td>2.5</td>\n",
       "      <td>5.0</td>\n",
       "      <td>1.9</td>\n",
       "    </tr>\n",
       "    <tr>\n",
       "      <th>147</th>\n",
       "      <td>6.5</td>\n",
       "      <td>3.0</td>\n",
       "      <td>5.2</td>\n",
       "      <td>2.0</td>\n",
       "    </tr>\n",
       "    <tr>\n",
       "      <th>148</th>\n",
       "      <td>6.2</td>\n",
       "      <td>3.4</td>\n",
       "      <td>5.4</td>\n",
       "      <td>2.3</td>\n",
       "    </tr>\n",
       "    <tr>\n",
       "      <th>149</th>\n",
       "      <td>5.9</td>\n",
       "      <td>3.0</td>\n",
       "      <td>5.1</td>\n",
       "      <td>1.8</td>\n",
       "    </tr>\n",
       "  </tbody>\n",
       "</table>\n",
       "<p>150 rows × 4 columns</p>\n",
       "</div>"
      ],
      "text/plain": [
       "     sepal length (cm)  sepal width (cm)  petal length (cm)  petal width (cm)\n",
       "0                  5.1               3.5                1.4               0.2\n",
       "1                  4.9               3.0                1.4               0.2\n",
       "2                  4.7               3.2                1.3               0.2\n",
       "3                  4.6               3.1                1.5               0.2\n",
       "4                  5.0               3.6                1.4               0.2\n",
       "..                 ...               ...                ...               ...\n",
       "145                6.7               3.0                5.2               2.3\n",
       "146                6.3               2.5                5.0               1.9\n",
       "147                6.5               3.0                5.2               2.0\n",
       "148                6.2               3.4                5.4               2.3\n",
       "149                5.9               3.0                5.1               1.8\n",
       "\n",
       "[150 rows x 4 columns]"
      ]
     },
     "execution_count": 37,
     "metadata": {},
     "output_type": "execute_result"
    }
   ],
   "source": [
    "X"
   ]
  },
  {
   "cell_type": "code",
   "execution_count": 38,
   "id": "de0c9b31",
   "metadata": {},
   "outputs": [
    {
     "data": {
      "text/plain": [
       "array([0, 0, 0, 0, 0, 0, 0, 0, 0, 0, 0, 0, 0, 0, 0, 0, 0, 0, 0, 0, 0, 0,\n",
       "       0, 0, 0, 0, 0, 0, 0, 0, 0, 0, 0, 0, 0, 0, 0, 0, 0, 0, 0, 0, 0, 0,\n",
       "       0, 0, 0, 0, 0, 0, 1, 1, 1, 1, 1, 1, 1, 1, 1, 1, 1, 1, 1, 1, 1, 1,\n",
       "       1, 1, 1, 1, 1, 1, 1, 1, 1, 1, 1, 1, 1, 1, 1, 1, 1, 1, 1, 1, 1, 1,\n",
       "       1, 1, 1, 1, 1, 1, 1, 1, 1, 1, 1, 1, 2, 2, 2, 2, 2, 2, 2, 2, 2, 2,\n",
       "       2, 2, 2, 2, 2, 2, 2, 2, 2, 2, 2, 2, 2, 2, 2, 2, 2, 2, 2, 2, 2, 2,\n",
       "       2, 2, 2, 2, 2, 2, 2, 2, 2, 2, 2, 2, 2, 2, 2, 2, 2, 2])"
      ]
     },
     "execution_count": 38,
     "metadata": {},
     "output_type": "execute_result"
    }
   ],
   "source": [
    "y"
   ]
  },
  {
   "cell_type": "code",
   "execution_count": 39,
   "id": "27d4ea17",
   "metadata": {},
   "outputs": [],
   "source": [
    "X_train, X_test, y_train, y_test = train_test_split(X, y, test_size=0.2, random_state=23)"
   ]
  },
  {
   "cell_type": "markdown",
   "id": "6e7faef9",
   "metadata": {},
   "source": [
    "##  Train-Test Split\n",
    "\n",
    "We split the dataset into training and testing subsets using `train_test_split` from `sklearn.model_selection`.\n",
    "\n",
    "###  Parameters:\n",
    "- `X`, `y`: Feature matrix and target vector.\n",
    "- `test_size=0.2`: 20% of the data is reserved for testing.\n",
    "- `random_state=23`: Ensures reproducibility of the split by setting a fixed seed.\n",
    "\n",
    "###  Output:\n",
    "- `X_train`, `y_train`: Training data (80%)\n",
    "- `X_test`, `y_test`: Testing data (20%)\n",
    "\n",
    "This separation allows us to evaluate the model on unseen data after training.\n"
   ]
  },
  {
   "cell_type": "code",
   "execution_count": 40,
   "id": "6c1a3792",
   "metadata": {},
   "outputs": [
    {
     "data": {
      "text/plain": [
       "(120, 4)"
      ]
     },
     "execution_count": 40,
     "metadata": {},
     "output_type": "execute_result"
    }
   ],
   "source": [
    "X_train.shape"
   ]
  },
  {
   "cell_type": "code",
   "execution_count": 41,
   "id": "f53399b5",
   "metadata": {},
   "outputs": [
    {
     "data": {
      "text/plain": [
       "(30, 4)"
      ]
     },
     "execution_count": 41,
     "metadata": {},
     "output_type": "execute_result"
    }
   ],
   "source": [
    "X_test.shape"
   ]
  },
  {
   "cell_type": "code",
   "execution_count": 42,
   "id": "3df2c15f",
   "metadata": {},
   "outputs": [],
   "source": [
    "models = {\n",
    "    \n",
    "    'KNN': KNeighborsClassifier(),\n",
    "    'SVM': SVC(),\n",
    "    'RandomForest': RandomForestClassifier()\n",
    "\n",
    "}\n",
    "\n",
    "param_grids = {\n",
    "\n",
    "    'KNN': {\n",
    "        'clf__n_neighbors': [3, 5, 7, 9],\n",
    "        'clf__weights': ['uniform', 'distance']\n",
    "    },\n",
    "    'SVM': {\n",
    "        'clf__C': [0.1, 1, 10],\n",
    "        'clf__kernel': ['linear', 'rbf']\n",
    "    },\n",
    "    'RandomForest': {\n",
    "        'clf__n_estimators': [50, 100, 200],\n",
    "        'clf__max_depth': [None, 10, 20]\n",
    "    }\n",
    "}\n",
    "\n"
   ]
  },
  {
   "cell_type": "markdown",
   "id": "67f1482d",
   "metadata": {},
   "source": [
    "##  Model Definitions and Hyperparameter Grids\n",
    "\n",
    "We define a set of classification models and their corresponding hyperparameter search spaces for tuning.\n",
    "\n",
    "###  Models:\n",
    "- `KNN`: K-Nearest Neighbors Classifier\n",
    "- `SVM`: Support Vector Machine Classifier\n",
    "- `RandomForest`: Random Forest Classifier\n",
    "\n",
    "These are stored in a dictionary called `models` for iterative training and evaluation.\n",
    "\n",
    "###  Hyperparameter Grids (`param_grids`):\n",
    "Defined for each model, using the `clf__` prefix to indicate parameters of the estimator within a `Pipeline`.\n",
    "\n",
    "- **KNN Parameters:**\n",
    "  - `n_neighbors`: Number of neighbors to use (3, 5, 7, 9)\n",
    "  - `weights`: Weight function used in prediction (`'uniform'`, `'distance'`)\n",
    "\n",
    "- **SVM Parameters:**\n",
    "  - `C`: Regularization parameter (0.1, 1, 10)\n",
    "  - `kernel`: Kernel type (`'linear'`, `'rbf'`)\n",
    "\n",
    "- **Random Forest Parameters:**\n",
    "  - `n_estimators`: Number of trees in the forest (50, 100, 200)\n",
    "  - `max_depth`: Maximum depth of each tree (`None`, 10, 20)\n",
    "\n",
    "These grids are used for exhaustive search during hyperparameter tuning.\n"
   ]
  },
  {
   "cell_type": "code",
   "execution_count": 48,
   "id": "ceba96e7",
   "metadata": {},
   "outputs": [
    {
     "name": "stdout",
     "output_type": "stream",
     "text": [
      "Training KNN...\n",
      "Fitting 5 folds for each of 8 candidates, totalling 40 fits\n",
      "              precision    recall  f1-score   support\n",
      "\n",
      "           0       1.00      1.00      1.00        12\n",
      "           1       0.89      1.00      0.94         8\n",
      "           2       1.00      0.90      0.95        10\n",
      "\n",
      "    accuracy                           0.97        30\n",
      "   macro avg       0.96      0.97      0.96        30\n",
      "weighted avg       0.97      0.97      0.97        30\n",
      "\n",
      "Training SVM...\n",
      "Fitting 5 folds for each of 6 candidates, totalling 30 fits\n",
      "              precision    recall  f1-score   support\n",
      "\n",
      "           0       1.00      1.00      1.00        12\n",
      "           1       0.89      1.00      0.94         8\n",
      "           2       1.00      0.90      0.95        10\n",
      "\n",
      "    accuracy                           0.97        30\n",
      "   macro avg       0.96      0.97      0.96        30\n",
      "weighted avg       0.97      0.97      0.97        30\n",
      "\n",
      "Training RandomForest...\n",
      "Fitting 5 folds for each of 9 candidates, totalling 45 fits\n",
      "              precision    recall  f1-score   support\n",
      "\n",
      "           0       1.00      1.00      1.00        12\n",
      "           1       0.89      1.00      0.94         8\n",
      "           2       1.00      0.90      0.95        10\n",
      "\n",
      "    accuracy                           0.97        30\n",
      "   macro avg       0.96      0.97      0.96        30\n",
      "weighted avg       0.97      0.97      0.97        30\n",
      "\n"
     ]
    }
   ],
   "source": [
    "best_models = {}\n",
    "results = []\n",
    "\n",
    "for model_name, model in models.items():\n",
    "    \n",
    "    print(f\"Training {model_name}...\")\n",
    "    \n",
    "    pipe = Pipeline([('scalar', StandardScaler()), ('clf', model)])\n",
    "    grid_search = GridSearchCV(pipe, param_grids[model_name], cv=5, n_jobs=-1, verbose=1)\n",
    "\n",
    "\n",
    "    # For RandomizedSearchCV, uncomment the following line and comment out GridSearchCV -->\n",
    "    #random_search = RandomizedSearchCV(pipe, {'clf__' + k: v for k, v in param_grids[model_name].items()},\n",
    "    #                              n_iter=10, cv=5, scoring='accuracy', n_jobs=-1)\n",
    "\n",
    "    \n",
    "    grid_search.fit(X_train, y_train)\n",
    "\n",
    "    best_models[model_name] = grid_search.best_estimator_\n",
    "\n",
    "    y_pred = best_models[model_name].predict(X_test)\n",
    "\n",
    "    result = {\n",
    "        'model': model_name,\n",
    "        'accuracy': accuracy_score(y_test, y_pred),\n",
    "        'precision': precision_score(y_test, y_pred, average='weighted'),\n",
    "        'recall': recall_score(y_test, y_pred, average='weighted'),\n",
    "        'f1_score': f1_score(y_test, y_pred, average='weighted')\n",
    "    }\n",
    "\n",
    "    results.append(result)\n",
    "\n",
    "    print(classification_report(y_test, y_pred))\n",
    "    \n",
    "\n"
   ]
  },
  {
   "cell_type": "markdown",
   "id": "7c77ed87",
   "metadata": {},
   "source": [
    "##  Model Training, Hyperparameter Tuning, and Evaluation\n",
    "\n",
    "Each model is trained and optimized using a `Pipeline` with `StandardScaler` and the respective classifier. We then use `GridSearchCV` for hyperparameter tuning and evaluate the best model on the test set.\n",
    "\n",
    "###  Steps:\n",
    "\n",
    "1. **Pipeline Creation:**\n",
    "   - Each model is wrapped inside a `Pipeline` with:\n",
    "     - `'scalar'`: StandardScaler (for feature standardization)\n",
    "     - `'clf'`: The classifier (KNN, SVM, or Random Forest)\n",
    "\n",
    "2. **Hyperparameter Tuning:**\n",
    "   - Performed using `GridSearchCV` with:\n",
    "     - 5-fold cross-validation (`cv=5`)\n",
    "     - All combinations from `param_grids[model_name]`\n",
    "     - Parallel execution with `n_jobs=-1`\n",
    "\n",
    "   - Optionally, `RandomizedSearchCV` can be used by uncommenting the relevant lines for faster, approximate tuning.\n",
    "\n",
    "3. **Model Selection:**\n",
    "   - After tuning, the best estimator for each model is stored in `best_models`.\n",
    "\n",
    "4. **Performance Evaluation:**\n",
    "   - Each selected model is evaluated on the test set using:\n",
    "     - `accuracy_score`\n",
    "     - `precision_score` (weighted)\n",
    "     - `recall_score` (weighted)\n",
    "     - `f1_score` (weighted)\n",
    "     - `classification_report` for detailed class-wise performance\n",
    "\n",
    "5. **Result Logging:**\n",
    "   - All evaluation metrics are stored in a list of dictionaries called `results` for future comparison and reporting.\n"
   ]
  },
  {
   "cell_type": "code",
   "execution_count": 44,
   "id": "17e2995f",
   "metadata": {},
   "outputs": [
    {
     "name": "stdout",
     "output_type": "stream",
     "text": [
      "KNN CV Accuracy: 0.9600 ± 0.0249\n",
      "SVM CV Accuracy: 0.9667 ± 0.0298\n",
      "RandomForest CV Accuracy: 0.9600 ± 0.0249\n"
     ]
    }
   ],
   "source": [
    "from sklearn.model_selection import cross_val_score\n",
    "\n",
    "for model_name, model in best_models.items():\n",
    "    scores = cross_val_score(model, X, y, cv=5, scoring='accuracy')\n",
    "    print(f\"{model_name} CV Accuracy: {scores.mean():.4f} ± {scores.std():.4f}\")\n"
   ]
  },
  {
   "cell_type": "markdown",
   "id": "46f0ad3a",
   "metadata": {},
   "source": [
    "##  Cross-Validation Evaluation\n",
    "\n",
    "After selecting the best models from `GridSearchCV`, we perform 5-fold cross-validation on the **entire dataset** to assess their generalization performance.\n",
    "\n",
    "###  Steps:\n",
    "\n",
    "- `cross_val_score`: Used to evaluate the model’s accuracy across 5 different train-test splits (`cv=5`).\n",
    "- We compute:\n",
    "  - The **mean accuracy** to represent overall performance.\n",
    "  - The **standard deviation** to measure performance stability.\n",
    "\n",
    "\n"
   ]
  },
  {
   "cell_type": "markdown",
   "id": "41a04ac9",
   "metadata": {},
   "source": [
    "\n",
    "This step helps validate that the chosen models perform consistently and are not overfitting to the specific train-test split.\n"
   ]
  },
  {
   "cell_type": "code",
   "execution_count": 47,
   "id": "00c75d64",
   "metadata": {},
   "outputs": [
    {
     "data": {
      "image/png": "[encoded data removed]",
      "text/plain": [
       "<Figure size 1200x600 with 1 Axes>"
      ]
     },
     "metadata": {},
     "output_type": "display_data"
    }
   ],
   "source": [
    "results_df = pd.DataFrame(results)\n",
    "\n",
    "sns.set(style=\"whitegrid\")\n",
    "\n",
    "results_melted = results_df.melt(id_vars=\"model\", var_name=\"Metric\", value_name=\"Score\")\n",
    "\n",
    "plt.figure(figsize=(12, 6))\n",
    "sns.barplot(x=\"model\", y=\"Score\", hue=\"Metric\", data=results_melted)\n",
    "plt.title(\"Model Performance Comparison\")\n",
    "plt.ylim(0, 1.05)\n",
    "plt.ylabel(\"Score\")\n",
    "plt.legend(title=\"Metric\")\n",
    "plt.show()"
   ]
  },
  {
   "cell_type": "markdown",
   "id": "b704091f",
   "metadata": {},
   "source": [
    "## Model Selection Justification: Random Forest Classifier\n",
    "\n",
    "After training and evaluating multiple machine learning models — **K-Nearest Neighbors (KNN)**, **Support Vector Machine (SVM)**, and **Random Forest Classifier (RFC)** — we selected the **Random Forest Classifier** as the final model based on the following reasons:\n",
    "\n",
    "1. **Consistent High Performance**  \n",
    "   All models achieved high accuracy (~96.67%–97%) across different random states. Random Forest matched or exceeded other models in precision, recall, and F1-score.\n",
    "\n",
    "2. **Robustness Across Data Splits**  \n",
    "   When evaluated using various `random_state` values, Random Forest consistently maintained its performance, demonstrating strong generalization and stability.\n",
    "\n",
    "3. **Interpretability**  \n",
    "   Random Forest provides easy access to feature importance scores, allowing us to understand which features contribute most to predictions.\n",
    "\n",
    "4. **Efficiency and Scalability**  \n",
    "   - KNN is computationally expensive during prediction.\n",
    "   - SVM may struggle with large datasets.\n",
    "   - Random Forest balances training speed and fast inference, making it practical for real-world use.\n",
    "\n",
    "5. **Overfitting Resistance**  \n",
    "   As an ensemble method, Random Forest is naturally resistant to overfitting, especially when hyperparameters are tuned via GridSearchCV.\n",
    "\n",
    "---\n",
    "\n",
    "**Conclusion:**  \n",
    "Given its balance of performance, interpretability, efficiency, and robustness, we selected the **Random Forest Classifier** as the final model for deployment and further analysis.\n"
   ]
  },
  {
   "cell_type": "code",
   "execution_count": null,
   "id": "00b3d49b",
   "metadata": {},
   "outputs": [],
   "source": []
  }
 ],
 "metadata": {
  "kernelspec": {
   "display_name": "base",
   "language": "python",
   "name": "python3"
  },
  "language_info": {
   "codemirror_mode": {
    "name": "ipython",
    "version": 3
   },
   "file_extension": ".py",
   "mimetype": "text/x-python",
   "name": "python",
   "nbconvert_exporter": "python",
   "pygments_lexer": "ipython3",
   "version": "3.12.7"
  }
 },
 "nbformat": 4,
 "nbformat_minor": 5
}
